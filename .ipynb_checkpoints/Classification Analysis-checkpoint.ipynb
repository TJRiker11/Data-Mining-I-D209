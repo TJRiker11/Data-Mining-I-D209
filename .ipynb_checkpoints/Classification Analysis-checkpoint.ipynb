{
 "cells": [
  {
   "cell_type": "markdown",
   "metadata": {},
   "source": [
    "# Classification Analysis"
   ]
  },
  {
   "cell_type": "markdown",
   "metadata": {},
   "source": [
    "## Part I: Research Question"
   ]
  },
  {
   "cell_type": "markdown",
   "metadata": {},
   "source": [
    "> What is the relationship between age, bandwidth usage, monthly charge, tenure, and churn?\n",
    "\n",
    "> We will answer this question using k-nearest neighbor (KNN)\n",
    "\n",
    "> The goal of this data analysis is to find the age, bandwidth usage, monthly charge, and tenure that churn the most."
   ]
  },
  {
   "cell_type": "markdown",
   "metadata": {},
   "source": [
    "## Part II: Method Justification"
   ]
  },
  {
   "cell_type": "markdown",
   "metadata": {},
   "source": [
    "> KNN analyzes the data by inputting training and testing data. The target variable for this analysis is Churn, and the predictor variables are going to be age, bandwidth usage, monthly charge, tenure. Using this data, we will be able to find what groups are most likely and least likely to churn.\n",
    "\n",
    "> The KNN algorithm assumes that similar things exist in close proximity. In other words, similar things are near to each other. We can use this information to find that the closest things in proximity are the most related."
   ]
  },
  {
   "cell_type": "code",
   "execution_count": 18,
   "metadata": {},
   "outputs": [],
   "source": [
    "# Importing packages to be used\n",
    "import numpy as np\n",
    "# numpy for data analysis functionality\n",
    "import pandas as pd\n",
    "# pandas for dataframes\n",
    "from sklearn.neighbors import KNeighborsClassifier\n",
    "# KNN classifier\n",
    "import matplotlib.pyplot as plt\n",
    "%matplotlib inline\n",
    "# matplotlib for plotting\n",
    "import seaborn as sns\n",
    "# seaborn for extra plotting functionality"
   ]
  },
  {
   "cell_type": "markdown",
   "metadata": {},
   "source": [
    "## Part III: Data Preparation"
   ]
  },
  {
   "cell_type": "markdown",
   "metadata": {},
   "source": [
    "> 1. One data preprocessing goal for this analysis will be to normalize the data. This will give us more accurate results in our analysis.\n",
    "\n",
    "> 2. The initial variables we will use are Churn, which is categorical, and Age, mothly charge, bandwidth, and tenure, which are all continuous\n",
    "\n",
    "> 3. Preparing the data for analysis:\n",
    "\n",
    "Data preparation will consist of cleaning up bad data, such as replacing nulls, removing duplicated rows, etc. We will also convert categorical variables to numerical so we can run linear regression."
   ]
  },
  {
   "cell_type": "code",
   "execution_count": 3,
   "metadata": {},
   "outputs": [],
   "source": [
    "# Importing the data\n",
    "df = pd.read_csv('Churn Data\\churn_clean.csv')"
   ]
  },
  {
   "cell_type": "code",
   "execution_count": 4,
   "metadata": {},
   "outputs": [
    {
     "data": {
      "text/plain": [
       "CaseOrder               False\n",
       "Customer_id             False\n",
       "Interaction             False\n",
       "UID                     False\n",
       "City                    False\n",
       "State                   False\n",
       "County                  False\n",
       "Zip                     False\n",
       "Lat                     False\n",
       "Lng                     False\n",
       "Population              False\n",
       "Area                    False\n",
       "TimeZone                False\n",
       "Job                     False\n",
       "Children                False\n",
       "Age                     False\n",
       "Income                  False\n",
       "Marital                 False\n",
       "Gender                  False\n",
       "Churn                   False\n",
       "Outage_sec_perweek      False\n",
       "Email                   False\n",
       "Contacts                False\n",
       "Yearly_equip_failure    False\n",
       "Techie                  False\n",
       "Contract                False\n",
       "Port_modem              False\n",
       "Tablet                  False\n",
       "InternetService         False\n",
       "Phone                   False\n",
       "Multiple                False\n",
       "OnlineSecurity          False\n",
       "OnlineBackup            False\n",
       "DeviceProtection        False\n",
       "TechSupport             False\n",
       "StreamingTV             False\n",
       "StreamingMovies         False\n",
       "PaperlessBilling        False\n",
       "PaymentMethod           False\n",
       "Tenure                  False\n",
       "MonthlyCharge           False\n",
       "Bandwidth_GB_Year       False\n",
       "Item1                   False\n",
       "Item2                   False\n",
       "Item3                   False\n",
       "Item4                   False\n",
       "Item5                   False\n",
       "Item6                   False\n",
       "Item7                   False\n",
       "Item8                   False\n",
       "dtype: bool"
      ]
     },
     "execution_count": 4,
     "metadata": {},
     "output_type": "execute_result"
    }
   ],
   "source": [
    "# Checking for null values\n",
    "df.isna().any()"
   ]
  },
  {
   "cell_type": "markdown",
   "metadata": {},
   "source": [
    "> These are all false, meaning there are no null values"
   ]
  },
  {
   "cell_type": "code",
   "execution_count": 5,
   "metadata": {},
   "outputs": [
    {
     "data": {
      "text/plain": [
       "False"
      ]
     },
     "execution_count": 5,
     "metadata": {},
     "output_type": "execute_result"
    }
   ],
   "source": [
    "# Checking for duplicates\n",
    "df.duplicated().any()"
   ]
  },
  {
   "cell_type": "markdown",
   "metadata": {},
   "source": [
    "> False, meaning there are no duplicates"
   ]
  },
  {
   "cell_type": "code",
   "execution_count": 32,
   "metadata": {},
   "outputs": [],
   "source": [
    "# Creating new dataframe with only the values we need\n",
    "newdf = df[['Age', 'MonthlyCharge', 'Bandwidth_GB_Year','Tenure','Churn']].copy()"
   ]
  },
  {
   "cell_type": "code",
   "execution_count": 33,
   "metadata": {},
   "outputs": [
    {
     "data": {
      "text/html": [
       "<div>\n",
       "<style scoped>\n",
       "    .dataframe tbody tr th:only-of-type {\n",
       "        vertical-align: middle;\n",
       "    }\n",
       "\n",
       "    .dataframe tbody tr th {\n",
       "        vertical-align: top;\n",
       "    }\n",
       "\n",
       "    .dataframe thead th {\n",
       "        text-align: right;\n",
       "    }\n",
       "</style>\n",
       "<table border=\"1\" class=\"dataframe\">\n",
       "  <thead>\n",
       "    <tr style=\"text-align: right;\">\n",
       "      <th></th>\n",
       "      <th>Age</th>\n",
       "      <th>MonthlyCharge</th>\n",
       "      <th>Bandwidth_GB_Year</th>\n",
       "      <th>Tenure</th>\n",
       "      <th>Churn</th>\n",
       "    </tr>\n",
       "  </thead>\n",
       "  <tbody>\n",
       "    <tr>\n",
       "      <th>0</th>\n",
       "      <td>68</td>\n",
       "      <td>172.455519</td>\n",
       "      <td>904.536110</td>\n",
       "      <td>6.795513</td>\n",
       "      <td>No</td>\n",
       "    </tr>\n",
       "    <tr>\n",
       "      <th>1</th>\n",
       "      <td>27</td>\n",
       "      <td>242.632554</td>\n",
       "      <td>800.982766</td>\n",
       "      <td>1.156681</td>\n",
       "      <td>Yes</td>\n",
       "    </tr>\n",
       "    <tr>\n",
       "      <th>2</th>\n",
       "      <td>50</td>\n",
       "      <td>159.947583</td>\n",
       "      <td>2054.706961</td>\n",
       "      <td>15.754144</td>\n",
       "      <td>No</td>\n",
       "    </tr>\n",
       "    <tr>\n",
       "      <th>3</th>\n",
       "      <td>48</td>\n",
       "      <td>119.956840</td>\n",
       "      <td>2164.579412</td>\n",
       "      <td>17.087227</td>\n",
       "      <td>No</td>\n",
       "    </tr>\n",
       "    <tr>\n",
       "      <th>4</th>\n",
       "      <td>83</td>\n",
       "      <td>149.948316</td>\n",
       "      <td>271.493436</td>\n",
       "      <td>1.670972</td>\n",
       "      <td>Yes</td>\n",
       "    </tr>\n",
       "    <tr>\n",
       "      <th>...</th>\n",
       "      <td>...</td>\n",
       "      <td>...</td>\n",
       "      <td>...</td>\n",
       "      <td>...</td>\n",
       "      <td>...</td>\n",
       "    </tr>\n",
       "    <tr>\n",
       "      <th>9995</th>\n",
       "      <td>23</td>\n",
       "      <td>159.979400</td>\n",
       "      <td>6511.252601</td>\n",
       "      <td>68.197130</td>\n",
       "      <td>No</td>\n",
       "    </tr>\n",
       "    <tr>\n",
       "      <th>9996</th>\n",
       "      <td>48</td>\n",
       "      <td>207.481100</td>\n",
       "      <td>5695.951810</td>\n",
       "      <td>61.040370</td>\n",
       "      <td>No</td>\n",
       "    </tr>\n",
       "    <tr>\n",
       "      <th>9997</th>\n",
       "      <td>48</td>\n",
       "      <td>169.974100</td>\n",
       "      <td>4159.305799</td>\n",
       "      <td>47.416890</td>\n",
       "      <td>No</td>\n",
       "    </tr>\n",
       "    <tr>\n",
       "      <th>9998</th>\n",
       "      <td>39</td>\n",
       "      <td>252.624000</td>\n",
       "      <td>6468.456752</td>\n",
       "      <td>71.095600</td>\n",
       "      <td>No</td>\n",
       "    </tr>\n",
       "    <tr>\n",
       "      <th>9999</th>\n",
       "      <td>28</td>\n",
       "      <td>217.484000</td>\n",
       "      <td>5857.586167</td>\n",
       "      <td>63.350860</td>\n",
       "      <td>No</td>\n",
       "    </tr>\n",
       "  </tbody>\n",
       "</table>\n",
       "<p>10000 rows × 5 columns</p>\n",
       "</div>"
      ],
      "text/plain": [
       "      Age  MonthlyCharge  Bandwidth_GB_Year     Tenure Churn\n",
       "0      68     172.455519         904.536110   6.795513    No\n",
       "1      27     242.632554         800.982766   1.156681   Yes\n",
       "2      50     159.947583        2054.706961  15.754144    No\n",
       "3      48     119.956840        2164.579412  17.087227    No\n",
       "4      83     149.948316         271.493436   1.670972   Yes\n",
       "...   ...            ...                ...        ...   ...\n",
       "9995   23     159.979400        6511.252601  68.197130    No\n",
       "9996   48     207.481100        5695.951810  61.040370    No\n",
       "9997   48     169.974100        4159.305799  47.416890    No\n",
       "9998   39     252.624000        6468.456752  71.095600    No\n",
       "9999   28     217.484000        5857.586167  63.350860    No\n",
       "\n",
       "[10000 rows x 5 columns]"
      ]
     },
     "execution_count": 33,
     "metadata": {},
     "output_type": "execute_result"
    }
   ],
   "source": [
    "newdf"
   ]
  },
  {
   "cell_type": "markdown",
   "metadata": {},
   "source": [
    "> 4. Copy of cleaned data:"
   ]
  },
  {
   "cell_type": "code",
   "execution_count": 34,
   "metadata": {},
   "outputs": [],
   "source": [
    "# export file to csv\n",
    "newdf.to_csv('cleaned_data.csv', index = False)"
   ]
  },
  {
   "cell_type": "markdown",
   "metadata": {},
   "source": [
    "## Part IV: Analysis"
   ]
  },
  {
   "cell_type": "code",
   "execution_count": 35,
   "metadata": {},
   "outputs": [],
   "source": [
    "# Scaling the data\n",
    "from sklearn.preprocessing import StandardScaler\n",
    "from sklearn import preprocessing\n",
    "\n",
    "num_cols = newdf.columns[newdf.dtypes.apply(lambda c: np.issubdtype(c, np.number))]\n",
    "\n",
    "scaler = StandardScaler()\n",
    "\n",
    "newdf[num_cols] = scaler.fit_transform(newdf[num_cols])"
   ]
  },
  {
   "cell_type": "code",
   "execution_count": 36,
   "metadata": {},
   "outputs": [
    {
     "data": {
      "text/html": [
       "<div>\n",
       "<style scoped>\n",
       "    .dataframe tbody tr th:only-of-type {\n",
       "        vertical-align: middle;\n",
       "    }\n",
       "\n",
       "    .dataframe tbody tr th {\n",
       "        vertical-align: top;\n",
       "    }\n",
       "\n",
       "    .dataframe thead th {\n",
       "        text-align: right;\n",
       "    }\n",
       "</style>\n",
       "<table border=\"1\" class=\"dataframe\">\n",
       "  <thead>\n",
       "    <tr style=\"text-align: right;\">\n",
       "      <th></th>\n",
       "      <th>Age</th>\n",
       "      <th>MonthlyCharge</th>\n",
       "      <th>Bandwidth_GB_Year</th>\n",
       "      <th>Tenure</th>\n",
       "      <th>Churn</th>\n",
       "    </tr>\n",
       "  </thead>\n",
       "  <tbody>\n",
       "    <tr>\n",
       "      <th>0</th>\n",
       "      <td>0.720925</td>\n",
       "      <td>-0.003943</td>\n",
       "      <td>-1.138487</td>\n",
       "      <td>-1.048746</td>\n",
       "      <td>No</td>\n",
       "    </tr>\n",
       "    <tr>\n",
       "      <th>1</th>\n",
       "      <td>-1.259957</td>\n",
       "      <td>1.630326</td>\n",
       "      <td>-1.185876</td>\n",
       "      <td>-1.262001</td>\n",
       "      <td>Yes</td>\n",
       "    </tr>\n",
       "    <tr>\n",
       "      <th>2</th>\n",
       "      <td>-0.148730</td>\n",
       "      <td>-0.295225</td>\n",
       "      <td>-0.612138</td>\n",
       "      <td>-0.709940</td>\n",
       "      <td>No</td>\n",
       "    </tr>\n",
       "    <tr>\n",
       "      <th>3</th>\n",
       "      <td>-0.245359</td>\n",
       "      <td>-1.226521</td>\n",
       "      <td>-0.561857</td>\n",
       "      <td>-0.659524</td>\n",
       "      <td>No</td>\n",
       "    </tr>\n",
       "    <tr>\n",
       "      <th>4</th>\n",
       "      <td>1.445638</td>\n",
       "      <td>-0.528086</td>\n",
       "      <td>-1.428184</td>\n",
       "      <td>-1.242551</td>\n",
       "      <td>Yes</td>\n",
       "    </tr>\n",
       "    <tr>\n",
       "      <th>...</th>\n",
       "      <td>...</td>\n",
       "      <td>...</td>\n",
       "      <td>...</td>\n",
       "      <td>...</td>\n",
       "      <td>...</td>\n",
       "    </tr>\n",
       "    <tr>\n",
       "      <th>9995</th>\n",
       "      <td>-1.453214</td>\n",
       "      <td>-0.294484</td>\n",
       "      <td>1.427298</td>\n",
       "      <td>1.273401</td>\n",
       "      <td>No</td>\n",
       "    </tr>\n",
       "    <tr>\n",
       "      <th>9996</th>\n",
       "      <td>-0.245359</td>\n",
       "      <td>0.811726</td>\n",
       "      <td>1.054194</td>\n",
       "      <td>1.002740</td>\n",
       "      <td>No</td>\n",
       "    </tr>\n",
       "    <tr>\n",
       "      <th>9997</th>\n",
       "      <td>-0.245359</td>\n",
       "      <td>-0.061729</td>\n",
       "      <td>0.350984</td>\n",
       "      <td>0.487513</td>\n",
       "      <td>No</td>\n",
       "    </tr>\n",
       "    <tr>\n",
       "      <th>9998</th>\n",
       "      <td>-0.680187</td>\n",
       "      <td>1.863005</td>\n",
       "      <td>1.407713</td>\n",
       "      <td>1.383018</td>\n",
       "      <td>No</td>\n",
       "    </tr>\n",
       "    <tr>\n",
       "      <th>9999</th>\n",
       "      <td>-1.211643</td>\n",
       "      <td>1.044672</td>\n",
       "      <td>1.128163</td>\n",
       "      <td>1.090120</td>\n",
       "      <td>No</td>\n",
       "    </tr>\n",
       "  </tbody>\n",
       "</table>\n",
       "<p>10000 rows × 5 columns</p>\n",
       "</div>"
      ],
      "text/plain": [
       "           Age  MonthlyCharge  Bandwidth_GB_Year    Tenure Churn\n",
       "0     0.720925      -0.003943          -1.138487 -1.048746    No\n",
       "1    -1.259957       1.630326          -1.185876 -1.262001   Yes\n",
       "2    -0.148730      -0.295225          -0.612138 -0.709940    No\n",
       "3    -0.245359      -1.226521          -0.561857 -0.659524    No\n",
       "4     1.445638      -0.528086          -1.428184 -1.242551   Yes\n",
       "...        ...            ...                ...       ...   ...\n",
       "9995 -1.453214      -0.294484           1.427298  1.273401    No\n",
       "9996 -0.245359       0.811726           1.054194  1.002740    No\n",
       "9997 -0.245359      -0.061729           0.350984  0.487513    No\n",
       "9998 -0.680187       1.863005           1.407713  1.383018    No\n",
       "9999 -1.211643       1.044672           1.128163  1.090120    No\n",
       "\n",
       "[10000 rows x 5 columns]"
      ]
     },
     "execution_count": 36,
     "metadata": {},
     "output_type": "execute_result"
    }
   ],
   "source": [
    "# Showing the scaled data\n",
    "newdf"
   ]
  },
  {
   "cell_type": "code",
   "execution_count": 37,
   "metadata": {},
   "outputs": [],
   "source": [
    "from sklearn.model_selection import train_test_split\n",
    "train , test = train_test_split(newdf, test_size = 0.25, random_state=42)\n",
    "\n",
    "x_train = train.drop('Churn', axis=1)\n",
    "y_train = train['Churn']\n",
    "\n",
    "x_test = test.drop('Churn', axis = 1)\n",
    "y_test = test['Churn']"
   ]
  },
  {
   "cell_type": "code",
   "execution_count": 38,
   "metadata": {},
   "outputs": [
    {
     "data": {
      "text/plain": [
       "KNeighborsClassifier(n_neighbors=10)"
      ]
     },
     "execution_count": 38,
     "metadata": {},
     "output_type": "execute_result"
    }
   ],
   "source": [
    "knn = KNeighborsClassifier(n_neighbors=10, weights='uniform')\n",
    "knn.fit(x_train, y_train)"
   ]
  },
  {
   "cell_type": "code",
   "execution_count": null,
   "metadata": {},
   "outputs": [],
   "source": []
  }
 ],
 "metadata": {
  "kernelspec": {
   "display_name": "Python 3",
   "language": "python",
   "name": "python3"
  },
  "language_info": {
   "codemirror_mode": {
    "name": "ipython",
    "version": 3
   },
   "file_extension": ".py",
   "mimetype": "text/x-python",
   "name": "python",
   "nbconvert_exporter": "python",
   "pygments_lexer": "ipython3",
   "version": "3.8.5"
  }
 },
 "nbformat": 4,
 "nbformat_minor": 4
}
