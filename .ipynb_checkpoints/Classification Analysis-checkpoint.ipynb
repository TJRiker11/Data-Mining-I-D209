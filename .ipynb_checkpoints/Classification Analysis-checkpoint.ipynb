{
 "cells": [
  {
   "cell_type": "markdown",
   "metadata": {},
   "source": [
    "# Classification Analysis"
   ]
  },
  {
   "cell_type": "markdown",
   "metadata": {},
   "source": [
    "## Part I: Research Question"
   ]
  },
  {
   "cell_type": "markdown",
   "metadata": {},
   "source": [
    "> What age groups and genders are most common to churn?\n",
    "\n",
    "> We will answer this question using k-nearest neighbor (KNN)\n",
    "\n",
    "> The goal of this data analysis is to find the age and genders that churn the most. For example what specific age and gender is the most likely to churn, and who are the least likely to churn?"
   ]
  },
  {
   "cell_type": "markdown",
   "metadata": {},
   "source": [
    "## Part II: Method Justification"
   ]
  },
  {
   "cell_type": "markdown",
   "metadata": {},
   "source": [
    "> KNN analyzes the data by inputting training and testing data. The target variable for this analysis is Churn, and the predictor variables are going to be gender and age. Using this data, we will be able to find what groups are most likely and least likely to churn.\n",
    "\n",
    "> The KNN algorithm assumes that similar things exist in close proximity. In other words, similar things are near to each other. We can use this information to find that the closest things in proximity are the most related."
   ]
  },
  {
   "cell_type": "code",
   "execution_count": 2,
   "metadata": {},
   "outputs": [],
   "source": [
    "# Importing packages to be used\n",
    "import numpy as np\n",
    "# numpy for data analysis functionality\n",
    "import pandas as pd\n",
    "# pandas for dataframes\n",
    "from sklearn.neighbors import KNeighborsClassifier\n",
    "# KNN classifier\n",
    "import matplotlib.pyplot as plt\n",
    "%matplotlib inline\n",
    "# matplotlib for plotting\n",
    "import seaborn as sns\n",
    "# seaborn for extra plotting functionality"
   ]
  },
  {
   "cell_type": "markdown",
   "metadata": {},
   "source": [
    "## Part III: Data Preparation"
   ]
  },
  {
   "cell_type": "code",
   "execution_count": null,
   "metadata": {},
   "outputs": [],
   "source": []
  }
 ],
 "metadata": {
  "kernelspec": {
   "display_name": "Python 3",
   "language": "python",
   "name": "python3"
  },
  "language_info": {
   "codemirror_mode": {
    "name": "ipython",
    "version": 3
   },
   "file_extension": ".py",
   "mimetype": "text/x-python",
   "name": "python",
   "nbconvert_exporter": "python",
   "pygments_lexer": "ipython3",
   "version": "3.8.5"
  }
 },
 "nbformat": 4,
 "nbformat_minor": 4
}
